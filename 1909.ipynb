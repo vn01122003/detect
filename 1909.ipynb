{
 "cells": [
  {
   "cell_type": "markdown",
   "id": "dcb75cce-9d31-446e-b548-1112fa362b50",
   "metadata": {},
   "source": [
    "generate TEXT lên hình với yêu cầu là kết quả trả về chứa hình đã generate text + bounding box của text"
   ]
  },
  {
   "cell_type": "code",
   "execution_count": 2,
   "id": "5754b26e-2ad6-49ef-a696-4771f8777092",
   "metadata": {},
   "outputs": [],
   "source": [
    "#pip install pillow"
   ]
  },
  {
   "cell_type": "code",
   "execution_count": 108,
   "id": "3a8bfad5-bab2-4e0f-8cd0-dfbf65cdc696",
   "metadata": {},
   "outputs": [],
   "source": [
    "from PIL import Image, ImageDraw, ImageFont"
   ]
  },
  {
   "cell_type": "code",
   "execution_count": 110,
   "id": "181153ab-b56e-43b3-a60d-8d5aa809e5d3",
   "metadata": {},
   "outputs": [],
   "source": [
    "# Tạo nền theo kích thước được cho\n",
    "width, height = 800, 400\n",
    "image_bg = Image.new('RGB', (width, height), color='white')\n",
    "\n",
    "# Tạo đối tượng ImageDraw\n",
    "draw = ImageDraw.Draw(image_bg)\n",
    "\n",
    "# Chọn font chữ và kích thước kèm văn bản muốn chèn vào hình\n",
    "font_size = 50\n",
    "font = ImageFont.truetype(\"arial.ttf\", font_size)\n",
    "text = \"Cty DIGI-TEXX\"\n",
    "\n",
    "# Tính toán bounding box của văn bản\n",
    "bbox = draw.textbbox((0, 0), text, font=font)\n",
    "text_width = bbox[2] - bbox[0]\n",
    "text_height = bbox[3] - bbox[1]\n",
    "\n",
    "# Tính toán vị trí để văn bản nằm giữa hình ảnh\n",
    "image_width, image_height = image_bg.size\n",
    "x = (image_width - text_width) // 2\n",
    "y = (image_height - text_height) // 2\n",
    "\n",
    "# Vẽ văn bản vào hình ảnh\n",
    "draw.text((x, y), text, font=font, fill=(0, 0, 0))\n",
    "\n",
    "# Hiển thị hình ảnh\n",
    "# image_bg.show()\n",
    "image_bg.save(\"image_with_text.png\")"
   ]
  },
  {
   "cell_type": "code",
   "execution_count": 10,
   "id": "b2dbb75b-35d7-4172-b39f-d57a8e17f73f",
   "metadata": {},
   "outputs": [
    {
     "name": "stdout",
     "output_type": "stream",
     "text": [
      "Requirement already satisfied: pip in c:\\users\\trungpt\\appdata\\local\\anaconda3\\lib\\site-packages (24.0)\n",
      "Collecting pip\n",
      "  Using cached pip-24.2-py3-none-any.whl.metadata (3.6 kB)\n",
      "Downloading pip-24.2-py3-none-any.whl (1.8 MB)\n",
      "   ---------------------------------------- 0.0/1.8 MB ? eta -:--:--\n",
      "   ---------------------------------------- 0.0/1.8 MB ? eta -:--:--\n",
      "   ---------------------------------------- 0.0/1.8 MB 217.9 kB/s eta 0:00:09\n",
      "   - -------------------------------------- 0.1/1.8 MB 544.7 kB/s eta 0:00:04\n",
      "   --- ------------------------------------ 0.1/1.8 MB 944.1 kB/s eta 0:00:02\n",
      "   ------ --------------------------------- 0.3/1.8 MB 1.6 MB/s eta 0:00:01\n",
      "   ----------- ---------------------------- 0.5/1.8 MB 2.1 MB/s eta 0:00:01\n",
      "   ----------- ---------------------------- 0.5/1.8 MB 2.1 MB/s eta 0:00:01\n",
      "   ------------------ --------------------- 0.8/1.8 MB 2.6 MB/s eta 0:00:01\n",
      "   ----------------------- ---------------- 1.0/1.8 MB 2.8 MB/s eta 0:00:01\n",
      "   ----------------------------- ---------- 1.3/1.8 MB 3.1 MB/s eta 0:00:01\n",
      "   ----------------------------- ---------- 1.3/1.8 MB 3.1 MB/s eta 0:00:01\n",
      "   ----------------------------- ---------- 1.3/1.8 MB 3.1 MB/s eta 0:00:01\n",
      "   ----------------------------- ---------- 1.3/1.8 MB 3.1 MB/s eta 0:00:01\n",
      "   ----------------------------- ---------- 1.3/1.8 MB 3.1 MB/s eta 0:00:01\n",
      "   ----------------------------- ---------- 1.3/1.8 MB 3.1 MB/s eta 0:00:01\n",
      "   ---------------------------------- ----- 1.6/1.8 MB 2.3 MB/s eta 0:00:01\n",
      "   ---------------------------------- ----- 1.6/1.8 MB 2.3 MB/s eta 0:00:01\n",
      "   ---------------------------------- ----- 1.6/1.8 MB 2.3 MB/s eta 0:00:01\n",
      "   ---------------------------------- ----- 1.6/1.8 MB 2.3 MB/s eta 0:00:01\n",
      "   ---------------------------------- ----- 1.6/1.8 MB 2.3 MB/s eta 0:00:01\n",
      "   ---------------------------------- ----- 1.6/1.8 MB 2.3 MB/s eta 0:00:01\n",
      "   ---------------------------------------- 1.8/1.8 MB 1.9 MB/s eta 0:00:00\n",
      "Installing collected packages: pip\n",
      "  Attempting uninstall: pip\n",
      "    Found existing installation: pip 24.0\n",
      "    Uninstalling pip-24.0:\n",
      "      Successfully uninstalled pip-24.0\n",
      "Successfully installed pip-24.2\n",
      "Note: you may need to restart the kernel to use updated packages.\n"
     ]
    }
   ],
   "source": [
    "#pip install --upgrade pip"
   ]
  },
  {
   "cell_type": "code",
   "execution_count": 12,
   "id": "a1646f2f-8314-4561-8df4-888cb5dd4c68",
   "metadata": {},
   "outputs": [
    {
     "name": "stdout",
     "output_type": "stream",
     "text": [
      "Collecting opencv-python\n",
      "  Using cached opencv_python-4.10.0.84-cp37-abi3-win_amd64.whl.metadata (20 kB)\n",
      "Requirement already satisfied: numpy>=1.21.2 in c:\\users\\trungpt\\appdata\\local\\anaconda3\\lib\\site-packages (from opencv-python) (1.26.4)\n",
      "Using cached opencv_python-4.10.0.84-cp37-abi3-win_amd64.whl (38.8 MB)\n",
      "Installing collected packages: opencv-python\n",
      "Successfully installed opencv-python-4.10.0.84\n",
      "Note: you may need to restart the kernel to use updated packages.\n"
     ]
    }
   ],
   "source": [
    "#pip install opencv-python"
   ]
  },
  {
   "cell_type": "code",
   "execution_count": 4,
   "id": "6d22144d-46f9-4846-81e8-39c408ec881a",
   "metadata": {},
   "outputs": [],
   "source": [
    "import cv2\n",
    "import numpy as np\n",
    "from matplotlib import pyplot as plt"
   ]
  },
  {
   "cell_type": "code",
   "execution_count": 14,
   "id": "e19eb858-f94b-4fe5-bea2-9bd83d50398c",
   "metadata": {},
   "outputs": [
    {
     "data": {
      "text/plain": [
       "array([[0, 0, 0, ..., 0, 0, 0],\n",
       "       [0, 0, 0, ..., 0, 0, 0],\n",
       "       [0, 0, 0, ..., 0, 0, 0],\n",
       "       ...,\n",
       "       [0, 0, 0, ..., 0, 0, 0],\n",
       "       [0, 0, 0, ..., 0, 0, 0],\n",
       "       [0, 0, 0, ..., 0, 0, 0]], dtype=uint8)"
      ]
     },
     "execution_count": 14,
     "metadata": {},
     "output_type": "execute_result"
    }
   ],
   "source": [
    "# Giữ lại đoạn này \n",
    "# Đọc ảnh gốc\n",
    "img = cv2.imread('image_with_text.png')\n",
    "\n",
    "# Chuyển sang ảnh xám\n",
    "gray = cv2.cvtColor(img, cv2.COLOR_BGR2GRAY)\n",
    "\n",
    "# Inverse ảnh để các vùng màu đen trở thành trắng (và ngược lại)\n",
    "inverted_img = cv2.bitwise_not(gray)\n",
    "\n",
    "# Đặt kernel có kích thước lớn hơn (10x10)\n",
    "kernel = np.ones((15, 15), np.uint8)\n",
    "\n",
    "# Áp dụng phép dilation lên ảnh đảo ngược\n",
    "img_dilation = cv2.dilate(inverted_img, kernel, iterations=2)\n",
    "\n",
    "# Đảo ngược lại ảnh để có dilation trên vùng đen ban đầu\n",
    "img_dilation_inverted = cv2.bitwise_not(img_dilation)\n",
    "\n",
    "# Hiển thị kết quả\n",
    "#cv2.imshow('Dilation on Black Areas', img_dilation_inverted)\n",
    "#cv2.waitKey(0)\n",
    "#cv2.destroyAllWindows()\n",
    "img_dilation"
   ]
  },
  {
   "cell_type": "code",
   "execution_count": 20,
   "id": "949b4f9d-73e1-4950-9d82-44ca1449b37d",
   "metadata": {},
   "outputs": [
    {
     "name": "stdout",
     "output_type": "stream",
     "text": [
      "185\n",
      "218\n"
     ]
    }
   ],
   "source": [
    "# Tìm chỉ số của các phần tử có giá trị 1\n",
    "indices = np.argwhere(img_dilation == 1)\n",
    "\n",
    "# Nếu có ít nhất một phần tử có giá trị 1\n",
    "if indices.size > 0:\n",
    "    # Tìm tọa độ có giá trị x và y nhỏ nhất\n",
    "    min_index = indices[np.argmin(indices[:, 0])]  # Tìm phần tử có x nhỏ nhất\n",
    "    min_x, min_y = min_index\n",
    "\n",
    "print(min_x)\n",
    "print(min_y)"
   ]
  },
  {
   "cell_type": "code",
   "execution_count": 30,
   "id": "fe7b1e74-de19-4d89-a393-5ea0b1c6f045",
   "metadata": {},
   "outputs": [
    {
     "data": {
      "text/plain": [
       "(400, 800)"
      ]
     },
     "execution_count": 30,
     "metadata": {},
     "output_type": "execute_result"
    }
   ],
   "source": [
    "img_dilation.shape"
   ]
  },
  {
   "cell_type": "code",
   "execution_count": 40,
   "id": "cd443589-9d0f-490b-a44e-47c8a4200d27",
   "metadata": {},
   "outputs": [
    {
     "name": "stdout",
     "output_type": "stream",
     "text": [
      "Tọa độ x lớn nhất: 185\n",
      "Tọa độ y lớn nhất: 218\n"
     ]
    }
   ],
   "source": [
    "# Tìm chỉ số của các phần tử có giá trị 1\n",
    "indices = np.argwhere(img_dilation == 1)\n",
    "\n",
    "# Nếu có ít nhất một phần tử có giá trị 1\n",
    "if indices.size > 0:\n",
    "    # Tìm tọa độ có giá trị x và y lớn nhất\n",
    "    max_index = indices[np.argmax(indices[:, 0])]  # Tìm phần tử có x lớn nhất\n",
    "    max_x, max_y = max_index\n",
    "\n",
    "    print(f\"Tọa độ x lớn nhất: {max_x}\")\n",
    "    print(f\"Tọa độ y lớn nhất: {max_y}\")\n",
    "else:\n",
    "    print(\"Không có phần tử nào có giá trị 1 trong mảng.\")"
   ]
  },
  {
   "cell_type": "code",
   "execution_count": 259,
   "id": "0877cd2e-6494-44e1-9493-d63b62b91ce9",
   "metadata": {},
   "outputs": [
    {
     "name": "stdout",
     "output_type": "stream",
     "text": [
      "Lowest x: 0\n",
      "Lowest y: 0\n"
     ]
    }
   ],
   "source": [
    "# Tìm các đường viền\n",
    "contours = cv2.findContours(img_dilation_inverted, cv2.RETR_EXTERNAL, cv2.CHAIN_APPROX_SIMPLE)[-2]\n",
    "\n",
    "# Khởi tạo các giá trị min\n",
    "min_x, min_y = np.inf, np.inf\n",
    "\n",
    "# Duyệt qua từng contour\n",
    "for contour in contours:\n",
    "    # Tính toán hình chữ nhật bao quanh\n",
    "    x, y, w, h = cv2.boundingRect(contour)\n",
    "    \n",
    "    # Cập nhật các giá trị min\n",
    "    if x < min_x:\n",
    "        min_x = x\n",
    "    if y < min_y:\n",
    "        min_y = y\n",
    "\n",
    "# In ra tọa độ thấp nhất\n",
    "print(f\"Lowest x: {min_x}\")\n",
    "print(f\"Lowest y: {min_y}\")\n",
    "\n",
    "# Vẽ điểm thấp nhất lên ảnh (tùy chọn)\n",
    "cv2.circle(img, (min_x, min_y), 10, (0, 255, 0), -1)\n",
    "\n",
    "# Hiển thị kết quả\n",
    "cv2.imshow('Image with Lowest Point', img)\n",
    "cv2.waitKey(0)\n",
    "cv2.destroyAllWindows()\n"
   ]
  },
  {
   "cell_type": "markdown",
   "id": "b254b175-3c30-4e2d-b965-855f9c6eed8e",
   "metadata": {},
   "source": [
    "sửa ảnh đã dilation tìm countour khoanh vùng"
   ]
  },
  {
   "cell_type": "code",
   "execution_count": 248,
   "id": "96ce02a1-76aa-4675-9dc2-c02a9f33f1dd",
   "metadata": {},
   "outputs": [
    {
     "data": {
      "text/plain": [
       "True"
      ]
     },
     "execution_count": 248,
     "metadata": {},
     "output_type": "execute_result"
    }
   ],
   "source": [
    "img = cv2.imread('image_with_text.png')\n",
    "gray = cv2.cvtColor(img, cv2.COLOR_BGR2GRAY)\n",
    "inverted_img = cv2.bitwise_not(gray)\n",
    "kernel = np.ones((5, 5), np.uint8)\n",
    "img_dilation = cv2.dilate(inverted_img, kernel, iterations=3)\n",
    "img_dilation_inverted = cv2.bitwise_not(img_dilation)\n",
    "\n",
    "ret, thresh = cv2.threshold(img_dilation_inverted, 120, 255, cv2.THRESH_BINARY)\n",
    "contours = cv2.findContours(thresh, cv2.RETR_TREE, cv2.CHAIN_APPROX_SIMPLE)[-2]\n",
    "\n",
    "for contour in contours:\n",
    "    # Vẽ đường viền\n",
    "    cv2.drawContours(img, contour, -1, (0, 255, 0), 3)\n",
    "    \n",
    "    # Tính toán bounding box quanh đường viền\n",
    "    x, y, w, h = cv2.boundingRect(contour)\n",
    "    \n",
    "    # Vẽ bounding box bằng một hình chữ nhật\n",
    "    cv2.rectangle(img, (x, y), (x + w, y + h), (255, 0, 0), 2)  # Màu xanh dương (BGR), độ dày 2 pixel\n",
    "    \n",
    "\n",
    "cv2.imwrite('image_with_text_countour_bounding.png', img)\n",
    "\n",
    "# cv2.imshow('Dilation on Black Areas', img_dilation_inverted)\n",
    "# cv2.waitKey(0)\n",
    "# cv2.destroyAllWindows()"
   ]
  },
  {
   "cell_type": "code",
   "execution_count": 129,
   "id": "8c91ccd6-546d-40b3-b042-6cfebc84f601",
   "metadata": {},
   "outputs": [
    {
     "name": "stdout",
     "output_type": "stream",
     "text": [
      "[[  0   0]\n",
      " [  0 399]\n",
      " [799 399]\n",
      " ...\n",
      " [240 188]\n",
      " [241 188]\n",
      " [242 187]]\n",
      "Min value: [0 0]\n",
      "Max value: [799 399]\n"
     ]
    },
    {
     "data": {
      "text/plain": [
       "True"
      ]
     },
     "execution_count": 129,
     "metadata": {},
     "output_type": "execute_result"
    }
   ],
   "source": [
    "import numpy as np\n",
    "import cv2\n",
    "\n",
    "img = cv2.imread('image_with_text.png')\n",
    "gray = cv2.cvtColor(img,cv2.COLOR_BGR2GRAY)\n",
    "ret, thresh = cv2.threshold(gray, 120, 255, cv2.THRESH_BINARY)\n",
    "contours = cv2.findContours(thresh, cv2.RETR_TREE, cv2.CHAIN_APPROX_SIMPLE)[-2]\n",
    "for contour in contours:\n",
    "    cv2.drawContours(img, contour, -1, (0, 255, 0), 3)\n",
    "\n",
    "# Tính toán và in ra giá trị min và max của các contour\n",
    "all_points = np.concatenate([c.reshape(-1, 2) for c in contours], axis=0)\n",
    "print(all_points)\n",
    "min_val = np.min(all_points, axis=0)\n",
    "max_val = np.max(all_points, axis=0)\n",
    "\n",
    "# Vẽ hình chữ nhật từ tọa độ min và max\n",
    "top_left = tuple(min_val)\n",
    "bottom_right = tuple(max_val)\n",
    "#cv2.rectangle(img, top_left, bottom_right, (0, 0, 255), 2)\n",
    "\n",
    "print(f\"Min value: {min_val}\")\n",
    "print(f\"Max value: {max_val}\")\n",
    "\n",
    "cv2.imwrite('rick-morty-contour.png', img)"
   ]
  },
  {
   "cell_type": "code",
   "execution_count": 220,
   "id": "e73c0b9b-ecd2-4e47-9882-a44c8b8a387b",
   "metadata": {},
   "outputs": [
    {
     "name": "stdout",
     "output_type": "stream",
     "text": [
      "199\n",
      "232\n",
      "148\n",
      "186\n"
     ]
    },
    {
     "data": {
      "text/plain": [
       "True"
      ]
     },
     "execution_count": 220,
     "metadata": {},
     "output_type": "execute_result"
    }
   ],
   "source": [
    "import numpy as np\n",
    "import cv2\n",
    "\n",
    "img = cv2.imread('image_with_text.png')\n",
    "gray = cv2.cvtColor(img,cv2.COLOR_BGR2GRAY)\n",
    "ret, thresh = cv2.threshold(gray, 120, 255, cv2.THRESH_BINARY)\n",
    "contours = cv2.findContours(thresh, cv2.RETR_TREE, cv2.CHAIN_APPROX_SIMPLE)[-2]\n",
    "for contour in contours:\n",
    "    cv2.drawContours(img, contour, -1, (0, 255, 0), 3)\n",
    "x2,y2,w,h = cv2.boundingRect(contour)\n",
    "x1 = x2-w\n",
    "y1 = y2-h\n",
    "print(x1)\n",
    "print(x2)\n",
    "print(y1)\n",
    "print(y2)\n",
    "cv2.imwrite('image_with_text_countour_bounding.png', img)"
   ]
  },
  {
   "cell_type": "code",
   "execution_count": 233,
   "id": "594f93b6-6408-4399-bb70-66514157929d",
   "metadata": {},
   "outputs": [
    {
     "name": "stdout",
     "output_type": "stream",
     "text": [
      "0\n",
      "0\n",
      "433\n",
      "180\n",
      "485\n",
      "212\n",
      "504\n",
      "201\n",
      "533\n",
      "200\n",
      "316\n",
      "180\n",
      "389\n",
      "198\n",
      "334\n",
      "198\n",
      "226\n",
      "180\n",
      "244\n",
      "199\n"
     ]
    },
    {
     "data": {
      "text/plain": [
       "True"
      ]
     },
     "execution_count": 233,
     "metadata": {},
     "output_type": "execute_result"
    }
   ],
   "source": [
    "img = cv2.imread('image_with_text.png')\n",
    "gray = cv2.cvtColor(img, cv2.COLOR_BGR2GRAY)\n",
    "inverted_img = cv2.bitwise_not(gray)\n",
    "kernel = np.ones((5, 5), np.uint8)\n",
    "img_dilation = cv2.dilate(inverted_img, kernel, iterations=3)\n",
    "img_dilation_inverted = cv2.bitwise_not(img_dilation)\n",
    "\n",
    "ret, thresh = cv2.threshold(img_dilation_inverted, 120, 255, cv2.THRESH_BINARY)\n",
    "contours = cv2.findContours(thresh, cv2.RETR_TREE, cv2.CHAIN_APPROX_SIMPLE)[-2]\n",
    "\n",
    "for contour in contours:\n",
    "    # Vẽ đường viền\n",
    "    cv2.drawContours(img, contour, -1, (0, 255, 0), 3)\n",
    "    \n",
    "    # Tính toán bounding box quanh đường viền\n",
    "    x2,y2,w,h = cv2.boundingRect(contour)\n",
    "    start_point = (x2-w, y2-h)\n",
    "    end_point = (x2, y2)\n",
    "    print(x2)\n",
    "    print(y2)\n",
    "    \n",
    "    # Vẽ bounding box bằng một hình chữ nhật\n",
    "    cv2.rectangle(img, (x1, y1), (x1 + w, y1 + h), (255, 0, 0), 2)  # Màu xanh dương (BGR), độ dày 2 pixel\n",
    "    \n",
    "\n",
    "cv2.imwrite('image_with_text_countour_bounding.png', img)\n",
    "\n",
    "# cv2.imshow('Dilation on Black Areas', img_dilation_inverted)\n",
    "# cv2.waitKey(0)\n",
    "# cv2.destroyAllWindows()"
   ]
  },
  {
   "cell_type": "markdown",
   "id": "f2230476-df8d-4a88-b96c-8e0f8042e82d",
   "metadata": {},
   "source": []
  },
  {
   "cell_type": "code",
   "execution_count": 198,
   "id": "872dc1e7-293e-4f22-92f0-fd9ee4522ec2",
   "metadata": {},
   "outputs": [
    {
     "name": "stdout",
     "output_type": "stream",
     "text": [
      "{'m00': 451.0, 'm10': 151764.5, 'm01': 92229.5, 'm20': 51081243.666666664, 'm11': 31035840.25, 'm02': 18885186.333333332, 'm30': 17196910467.850002, 'm21': 10446114329.833334, 'm12': 6354969309.533333, 'm03': 3871940320.75, 'mu20': 11479.896711014211, 'mu11': 0.0, 'mu02': 24253.58333333209, 'mu30': 6064.2610206604, 'mu21': 8.530914783477783e-07, 'mu12': -21513.715373335406, 'mu03': 9.5367431640625e-07, 'nu20': 0.056439726014199595, 'nu11': 0.0, 'nu02': 0.11924023644589797, 'nu30': 0.0014039011553114201, 'nu21': 1.974941559999586e-13, 'nu12': -0.00498051283821182, 'nu03': 2.207794931702594e-13}\n"
     ]
    }
   ],
   "source": [
    "import numpy as np\n",
    "import cv2 as cv\n",
    " \n",
    "img = cv.imread('image_with_text.png', cv.IMREAD_GRAYSCALE)\n",
    "ret,thresh = cv.threshold(img,127,255,0)\n",
    "contours,hierarchy = cv.findContours(thresh, 1, 2)\n",
    " \n",
    "cnt = contours[2]\n",
    "M = cv.moments(cnt)\n",
    "print( M )"
   ]
  },
  {
   "cell_type": "code",
   "execution_count": 200,
   "id": "f3013707-c79c-45bf-9033-a8bffc11e38c",
   "metadata": {},
   "outputs": [],
   "source": [
    "area = cv.contourArea(cnt)"
   ]
  },
  {
   "cell_type": "code",
   "execution_count": 202,
   "id": "411ba999-009a-413e-8db5-0c86680b7cc4",
   "metadata": {},
   "outputs": [
    {
     "name": "stdout",
     "output_type": "stream",
     "text": [
      "451.0\n"
     ]
    }
   ],
   "source": [
    "print(area)"
   ]
  },
  {
   "cell_type": "code",
   "execution_count": 204,
   "id": "ab52a68e-f1d9-4d35-8d1b-489a4faac4c1",
   "metadata": {},
   "outputs": [
    {
     "name": "stdout",
     "output_type": "stream",
     "text": [
      "84.97056245803833\n"
     ]
    }
   ],
   "source": [
    "perimeter = cv.arcLength(cnt,True)\n",
    "print(perimeter)"
   ]
  },
  {
   "cell_type": "code",
   "execution_count": 208,
   "id": "bfe6a7b7-50fb-4bcb-9d0b-e778ef8abdae",
   "metadata": {},
   "outputs": [
    {
     "name": "stdout",
     "output_type": "stream",
     "text": [
      "328\n",
      "191\n",
      "20\n",
      "28\n"
     ]
    },
    {
     "data": {
      "text/plain": [
       "True"
      ]
     },
     "execution_count": 208,
     "metadata": {},
     "output_type": "execute_result"
    }
   ],
   "source": [
    "x,y,w,h = cv.boundingRect(cnt)\n",
    "print(x)\n",
    "print(y)\n",
    "print(w)\n",
    "print(h)\n",
    "cv.rectangle(img,(x,y),(x+w,y+h),(0,255,0),2)\n",
    "cv.imwrite('image_with_text_countour_bounding.png', img)"
   ]
  }
 ],
 "metadata": {
  "kernelspec": {
   "display_name": "Python 3 (ipykernel)",
   "language": "python",
   "name": "python3"
  },
  "language_info": {
   "codemirror_mode": {
    "name": "ipython",
    "version": 3
   },
   "file_extension": ".py",
   "mimetype": "text/x-python",
   "name": "python",
   "nbconvert_exporter": "python",
   "pygments_lexer": "ipython3",
   "version": "3.12.4"
  }
 },
 "nbformat": 4,
 "nbformat_minor": 5
}
