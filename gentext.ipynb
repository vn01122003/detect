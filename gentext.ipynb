{
 "cells": [
  {
   "cell_type": "code",
   "execution_count": 2,
   "metadata": {},
   "outputs": [],
   "source": [
    "#pip install pillow"
   ]
  },
  {
   "cell_type": "code",
   "execution_count": 8,
   "metadata": {},
   "outputs": [],
   "source": [
    "from PIL import Image, ImageDraw, ImageFont\n",
    "import numpy as np \n",
    "import pandas as pd\n",
    "import cv2 \n",
    "from matplotlib import pyplot as plt \n",
    "from pylab import imread\n",
    "from skimage.color import rgb2gray"
   ]
  },
  {
   "cell_type": "code",
   "execution_count": 13,
   "metadata": {},
   "outputs": [
    {
     "name": "stdout",
     "output_type": "stream",
     "text": [
      "1080 810 3\n"
     ]
    }
   ],
   "source": [
    "# Read Image \n",
    "image_color = imread(\"special.jpg\",0)\n",
    "# Convert Image into Gray\n",
    "image_gray = cv2.cvtColor(image_color, cv2.COLOR_RGB2GRAY)\n",
    "(h, w, d) = image_color.shape\n",
    "print(h,w,d)"
   ]
  },
  {
   "cell_type": "code",
   "execution_count": 14,
   "metadata": {},
   "outputs": [],
   "source": [
    "# Tạo nền theo kích thước được cho\n",
    "width, height = h, w\n",
    "image_bg = Image.new('RGB', (width, height), color='white')\n",
    "\n",
    "# Tạo đối tượng ImageDraw\n",
    "draw = ImageDraw.Draw(image_bg)\n",
    "\n",
    "# Chọn font chữ và kích thước kèm văn bản muốn chèn vào hình\n",
    "font_size = 50\n",
    "font = ImageFont.truetype(\"arial.ttf\", font_size)\n",
    "text = \"Cty DIGI-TEXX\"\n",
    "\n",
    "# Tính toán bounding box của văn bản\n",
    "bbox = draw.textbbox((0, 0), text, font=font)\n",
    "text_width = bbox[2] - bbox[0]\n",
    "text_height = bbox[3] - bbox[1]\n",
    "\n",
    "# Tính toán vị trí để văn bản nằm giữa hình ảnh\n",
    "image_width, image_height = image_bg.size\n",
    "x = (image_width - text_width) // 2\n",
    "y = (image_height - text_height) // 2\n",
    "\n",
    "# Vẽ văn bản vào hình ảnh\n",
    "draw.text((x, y), text, font=font, fill=(0, 0, 0))\n",
    "\n",
    "# Hiển thị hình ảnh\n",
    "# image_bg.show()\n",
    "image_bg.save(\"sample.png\")"
   ]
  },
  {
   "cell_type": "code",
   "execution_count": 17,
   "metadata": {},
   "outputs": [
    {
     "ename": "FileNotFoundError",
     "evalue": "[Errno 2] No such file or directory: 'C:\\\\mnt\\\\data\\\\output_image.png'",
     "output_type": "error",
     "traceback": [
      "\u001b[1;31m---------------------------------------------------------------------------\u001b[0m",
      "\u001b[1;31mFileNotFoundError\u001b[0m                         Traceback (most recent call last)",
      "Cell \u001b[1;32mIn[17], line 29\u001b[0m\n\u001b[0;32m     26\u001b[0m     draw\u001b[38;5;241m.\u001b[39mtext(position, text, font\u001b[38;5;241m=\u001b[39mfont, fill\u001b[38;5;241m=\u001b[39m(\u001b[38;5;241m0\u001b[39m, \u001b[38;5;241m0\u001b[39m, \u001b[38;5;241m0\u001b[39m))\n\u001b[0;32m     28\u001b[0m \u001b[38;5;66;03m# Bước 4: Lưu và hiển thị hình ảnh kết quả\u001b[39;00m\n\u001b[1;32m---> 29\u001b[0m image_bg\u001b[38;5;241m.\u001b[39msave(\u001b[38;5;124m\"\u001b[39m\u001b[38;5;124m/mnt/data/output_image.png\u001b[39m\u001b[38;5;124m\"\u001b[39m)\n\u001b[0;32m     30\u001b[0m image_bg\u001b[38;5;241m.\u001b[39mshow()\n",
      "File \u001b[1;32mc:\\Users\\LUNE\\anaconda3\\envs\\mini\\Lib\\site-packages\\PIL\\Image.py:2563\u001b[0m, in \u001b[0;36mImage.save\u001b[1;34m(self, fp, format, **params)\u001b[0m\n\u001b[0;32m   2561\u001b[0m         fp \u001b[38;5;241m=\u001b[39m builtins\u001b[38;5;241m.\u001b[39mopen(filename, \u001b[38;5;124m\"\u001b[39m\u001b[38;5;124mr+b\u001b[39m\u001b[38;5;124m\"\u001b[39m)\n\u001b[0;32m   2562\u001b[0m     \u001b[38;5;28;01melse\u001b[39;00m:\n\u001b[1;32m-> 2563\u001b[0m         fp \u001b[38;5;241m=\u001b[39m builtins\u001b[38;5;241m.\u001b[39mopen(filename, \u001b[38;5;124m\"\u001b[39m\u001b[38;5;124mw+b\u001b[39m\u001b[38;5;124m\"\u001b[39m)\n\u001b[0;32m   2564\u001b[0m \u001b[38;5;28;01melse\u001b[39;00m:\n\u001b[0;32m   2565\u001b[0m     fp \u001b[38;5;241m=\u001b[39m cast(IO[\u001b[38;5;28mbytes\u001b[39m], fp)\n",
      "\u001b[1;31mFileNotFoundError\u001b[0m: [Errno 2] No such file or directory: 'C:\\\\mnt\\\\data\\\\output_image.png'"
     ]
    }
   ],
   "source": [
    "from PIL import Image, ImageDraw, ImageFont\n",
    "\n",
    "# Bước 1: Đọc kích thước của hình ảnh gốc\n",
    "# image_path = 'special.jpg'\n",
    "original_img = Image.open('special.jpg')\n",
    "image_width, image_height = original_img.size\n",
    "\n",
    "# Tạo nền trắng có cùng kích thước với ảnh gốc\n",
    "image_bg = Image.new('RGB', (image_width, image_height), color='white')\n",
    "draw = ImageDraw.Draw(image_bg)\n",
    "\n",
    "# Bước 2: Chọn font chữ và định nghĩa các đoạn văn bản cùng vị trí và kích thước\n",
    "font_size = 20  # Điều chỉnh kích thước font chữ cho phù hợp với ảnh gốc\n",
    "font = ImageFont.truetype(\"arial.ttf\", font_size)\n",
    "\n",
    "# Danh sách các đoạn văn bản và vị trí tương ứng (x, y)\n",
    "texts_and_positions = [\n",
    "    (\"Cty DIGI-TEXX\", (100, 50)),  # Đoạn văn bản và tọa độ tương ứng (x, y)\n",
    "    (\"Email: example@domain.com\", (150, 150)),\n",
    "    (\"Số điện thoại: 0909123456\", (200, 250)),\n",
    "    # Thêm các đoạn văn bản và vị trí khác tương ứng với ảnh gốc\n",
    "]\n",
    "\n",
    "# Bước 3: Vẽ văn bản lên nền trắng ở đúng vị trí\n",
    "for text, position in texts_and_positions:\n",
    "    draw.text(position, text, font=font, fill=(0, 0, 0))\n",
    "\n",
    "# Bước 4: Lưu và hiển thị hình ảnh kết quả\n",
    "image_bg.save(\"/mnt/data/output_image.png\")\n",
    "image_bg.show()\n"
   ]
  },
  {
   "cell_type": "code",
   "execution_count": null,
   "metadata": {},
   "outputs": [],
   "source": []
  }
 ],
 "metadata": {
  "kernelspec": {
   "display_name": "base",
   "language": "python",
   "name": "python3"
  },
  "language_info": {
   "codemirror_mode": {
    "name": "ipython",
    "version": 3
   },
   "file_extension": ".py",
   "mimetype": "text/x-python",
   "name": "python",
   "nbconvert_exporter": "python",
   "pygments_lexer": "ipython3",
   "version": "3.11.9"
  }
 },
 "nbformat": 4,
 "nbformat_minor": 2
}
