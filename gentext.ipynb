{
 "cells": [
  {
   "cell_type": "code",
   "execution_count": 2,
   "metadata": {},
   "outputs": [],
   "source": [
    "#pip install pillow"
   ]
  },
  {
   "cell_type": "code",
   "execution_count": 2,
   "metadata": {},
   "outputs": [],
   "source": [
    "from PIL import Image, ImageDraw, ImageFont\n",
    "import numpy as np \n",
    "import pandas as pd\n",
    "import cv2 \n",
    "from matplotlib import pyplot as plt \n",
    "from pylab import imread\n",
    "from skimage.color import rgb2gray"
   ]
  },
  {
   "cell_type": "code",
   "execution_count": 3,
   "metadata": {},
   "outputs": [
    {
     "name": "stdout",
     "output_type": "stream",
     "text": [
      "1080 810 3\n"
     ]
    }
   ],
   "source": [
    "# Read Image \n",
    "image_color = imread(\"special.jpg\",0)\n",
    "# Convert Image into Gray\n",
    "image_gray = cv2.cvtColor(image_color, cv2.COLOR_RGB2GRAY)\n",
    "(h, w, d) = image_color.shape\n",
    "print(h,w,d)"
   ]
  },
  {
   "cell_type": "code",
   "execution_count": 4,
   "metadata": {},
   "outputs": [],
   "source": [
    "# Tạo nền theo kích thước được cho\n",
    "width, height = h, w\n",
    "image_bg = Image.new('RGB', (width, height), color='white')\n",
    "\n",
    "# Tạo đối tượng ImageDraw\n",
    "draw = ImageDraw.Draw(image_bg)\n",
    "\n",
    "# Chọn font chữ và kích thước kèm văn bản muốn chèn vào hình\n",
    "font_size = 50\n",
    "font = ImageFont.truetype(\"arial.ttf\", font_size)\n",
    "text = \"Cty DIGI-TEXX\"\n",
    "\n",
    "# Tính toán bounding box của văn bản\n",
    "bbox = draw.textbbox((0, 0), text, font=font)\n",
    "text_width = bbox[2] - bbox[0]\n",
    "text_height = bbox[3] - bbox[1]\n",
    "\n",
    "# Tính toán vị trí để văn bản nằm giữa hình ảnh\n",
    "image_width, image_height = image_bg.size\n",
    "x = (image_width - text_width) // 2\n",
    "y = (image_height - text_height) // 2\n",
    "\n",
    "# Vẽ văn bản vào hình ảnh\n",
    "draw.text((x, y), text, font=font, fill=(0, 0, 0))\n",
    "\n",
    "# Hiển thị hình ảnh\n",
    "# image_bg.show()\n",
    "image_bg.save(\"sample.png\")"
   ]
  },
  {
   "cell_type": "code",
   "execution_count": null,
   "metadata": {},
   "outputs": [],
   "source": []
  }
 ],
 "metadata": {
  "kernelspec": {
   "display_name": "Python 3 (ipykernel)",
   "language": "python",
   "name": "python3"
  },
  "language_info": {
   "codemirror_mode": {
    "name": "ipython",
    "version": 3
   },
   "file_extension": ".py",
   "mimetype": "text/x-python",
   "name": "python",
   "nbconvert_exporter": "python",
   "pygments_lexer": "ipython3",
   "version": "3.12.4"
  }
 },
 "nbformat": 4,
 "nbformat_minor": 4
}
