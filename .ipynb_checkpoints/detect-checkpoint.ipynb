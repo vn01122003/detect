{
 "cells": [
  {
   "cell_type": "code",
   "execution_count": 18,
   "metadata": {},
   "outputs": [
    {
     "name": "stdout",
     "output_type": "stream",
     "text": [
      "Requirement already satisfied: opencv-python in c:\\users\\pham trung\\anaconda3\\lib\\site-packages (4.10.0.84)\n",
      "Requirement already satisfied: numpy>=1.21.2 in c:\\users\\pham trung\\anaconda3\\lib\\site-packages (from opencv-python) (1.24.3)\n",
      "Note: you may need to restart the kernel to use updated packages.\n"
     ]
    }
   ],
   "source": [
    "#pip install opencv-python"
   ]
  },
  {
   "cell_type": "code",
   "execution_count": 14,
   "metadata": {},
   "outputs": [],
   "source": [
    "import cv2\n",
    "import numpy as np"
   ]
  },
  {
   "cell_type": "code",
   "execution_count": null,
   "metadata": {},
   "outputs": [],
   "source": [
    "image = cv2.imread('sample.png')\n",
    "cv2.imshow('test',image)\n",
    "cv2.waitKey(0)\n",
    "cv2.destroyAllWindows()"
   ]
  },
  {
   "cell_type": "code",
   "execution_count": null,
   "metadata": {},
   "outputs": [],
   "source": [
    "(h, w, d) = image.shape \n",
    "center = (w // 2, h // 2) \n",
    "M = cv2.getRotationMatrix2D(center, 90, 1.0) \n",
    "rotated = cv2.warpAffine(image, M, (w, h))\n",
    "cv2.imshow('test',rotated)\n",
    "cv2.waitKey(0)\n",
    "cv2.destroyAllWindows()\n",
    "cv2.imwrite('sample_1.png', rotated)"
   ]
  },
  {
   "cell_type": "code",
   "execution_count": null,
   "metadata": {},
   "outputs": [],
   "source": [
    "image = cv2.imread('sample.png', cv2.IMREAD_GRAYSCALE)\n",
    "_, binary = cv2.threshold(image, 127, 255, cv2.THRESH_BINARY_INV)\n",
    "contours, _ = cv2.findContours(binary, cv2.RETR_EXTERNAL, cv2.CHAIN_APPROX_SIMPLE)\n",
    "#Khởi tạo tọa độ cho chữ\n",
    "x_min, y_min = float('inf'), float('inf')\n",
    "x_max, y_max = -float('inf'), -float('inf')\n",
    "for contour in contours:\n",
    "    x, y, w, h = cv2.boundingRect(contour)\n",
    "    x_min = min(x_min, x)\n",
    "    y_min = min(y_min, y)\n",
    "    x_max = max(x_max, x + w)\n",
    "    y_max = max(y_max, y + h)\n",
    "image_color = cv2.imread('sample.png')\n",
    "cv2.rectangle(image_color, (x_min, y_min), (x_max, y_max), (0, 255, 0), 2)\n",
    "cv2.imwrite('output.png', image_color)\n",
    "cv2.imshow('Bounding Box', image_color)\n",
    "cv2.waitKey(0)\n",
    "cv2.destroyAllWindows()"
   ]
  },
  {
   "cell_type": "code",
   "execution_count": null,
   "metadata": {},
   "outputs": [],
   "source": [
    "image = cv2.imread('sample_1.png', cv2.IMREAD_GRAYSCALE)\n",
    "_, binary = cv2.threshold(image, 127, 255, cv2.THRESH_BINARY_INV)\n",
    "contours, _ = cv2.findContours(binary, cv2.RETR_EXTERNAL, cv2.CHAIN_APPROX_SIMPLE)\n",
    "#Khởi tạo tọa độ cho chữ\n",
    "x_min, y_min = float('inf'), float('inf')\n",
    "x_max, y_max = -float('inf'), -float('inf')\n",
    "for contour in contours:\n",
    "    x, y, w, h = cv2.boundingRect(contour)\n",
    "    x_min = min(x_min, x)\n",
    "    y_min = min(y_min, y)\n",
    "    x_max = max(x_max, x + w)\n",
    "    y_max = max(y_max, y + h)\n",
    "image_color = cv2.imread('sample_1.png')\n",
    "cv2.rectangle(image_color, (x_min, y_min), (x_max, y_max), (0, 255, 0), 2)\n",
    "cv2.imwrite('output1.png', image_color)\n",
    "cv2.imshow('Bounding Box', image_color)\n",
    "cv2.waitKey(0)\n",
    "cv2.destroyAllWindows()"
   ]
  },
  {
   "cell_type": "code",
   "execution_count": null,
   "metadata": {},
   "outputs": [],
   "source": [
    "# hiện lỗi khi hình nghiêng dẫn đến bounding box ra được theo hình dạng của khung hình với diện tích chữ nằm bên trong\n",
    "image = cv2.imread('sample45.png', cv2.IMREAD_GRAYSCALE)\n",
    "_, binary = cv2.threshold(image, 127, 255, cv2.THRESH_BINARY_INV)\n",
    "contours, _ = cv2.findContours(binary, cv2.RETR_EXTERNAL, cv2.CHAIN_APPROX_SIMPLE)\n",
    "#Khởi tạo tọa độ cho chữ\n",
    "x_min, y_min = float('inf'), float('inf')\n",
    "x_max, y_max = -float('inf'), -float('inf')\n",
    "for contour in contours:\n",
    "    x, y, w, h = cv2.boundingRect(contour)\n",
    "    x_min = min(x_min, x)\n",
    "    y_min = min(y_min, y)\n",
    "    x_max = max(x_max, x + w)\n",
    "    y_max = max(y_max, y + h)\n",
    "image_color = cv2.imread('sample45.png')\n",
    "cv2.rectangle(image_color, (x_min, y_min), (x_max, y_max), (0, 255, 0), 2)\n",
    "cv2.imwrite('output45.png', image_color)\n",
    "cv2.imshow('Bounding Box', image_color)\n",
    "cv2.waitKey(0)\n",
    "cv2.destroyAllWindows()"
   ]
  },
  {
   "cell_type": "code",
   "execution_count": null,
   "metadata": {},
   "outputs": [],
   "source": [
    "image = cv2.imread('sample45.png', cv2.IMREAD_GRAYSCALE)\n",
    "_, binary = cv2.threshold(image, 127, 255, cv2.THRESH_BINARY_INV)\n",
    "contours, _ = cv2.findContours(binary, cv2.RETR_EXTERNAL, cv2.CHAIN_APPROX_SIMPLE)\n",
    "image_color = cv2.imread('sample45.png')\n",
    "for contour in contours:\n",
    "    # Bounding box hình chữ nhật nghiêng\n",
    "    rect = cv2.minAreaRect(contour)\n",
    "    box = cv2.boxPoints(rect)\n",
    "    box = np.int0(box)  # Ép kiểu về số nguyên\n",
    "\n",
    "    # Vẽ khung hình chữ nhật nghiêng lên ảnh\n",
    "    cv2.drawContours(image_color, [box], 0, (0, 255, 0), 2)\n",
    "\n",
    "cv2.imwrite('output45.png', image_color)\n",
    "cv2.imshow('Bounding Box', image_color)\n",
    "cv2.waitKey(0)\n",
    "cv2.destroyAllWindows()"
   ]
  },
  {
   "cell_type": "code",
   "execution_count": null,
   "metadata": {},
   "outputs": [],
   "source": [
    "# Đọc ảnh và chuyển sang ảnh xám\n",
    "image = cv2.imread('sample45.png', cv2.IMREAD_GRAYSCALE)\n",
    "_, binary = cv2.threshold(image, 127, 255, cv2.THRESH_BINARY_INV)\n",
    "contours, _ = cv2.findContours(binary, cv2.RETR_EXTERNAL, cv2.CHAIN_APPROX_SIMPLE)\n",
    "image_color = cv2.imread('sample45.png')\n",
    "#\n",
    "all_contours = np.vstack(contours)\n",
    "\n",
    "# Bounding box hình chữ nhật nghiêng cho toàn bộ các contours\n",
    "rect = cv2.minAreaRect(all_contours)\n",
    "box = cv2.boxPoints(rect)\n",
    "box = np.int0(box)  # Ép kiểu về số nguyên\n",
    "\n",
    "# Vẽ khung hình chữ nhật nghiêng lên ảnh\n",
    "cv2.drawContours(image_color, [box], 0, (0, 255, 0), 2)  # Màu xanh lá cây\n",
    "\n",
    "# Lưu và hiển thị ảnh kết quả\n",
    "cv2.imwrite('output45.png', image_color)\n",
    "cv2.imshow('Bounding Box', image_color)\n",
    "cv2.waitKey(0)\n",
    "cv2.destroyAllWindows()\n"
   ]
  },
  {
   "cell_type": "code",
   "execution_count": null,
   "metadata": {},
   "outputs": [],
   "source": []
  }
 ],
 "metadata": {
  "kernelspec": {
   "display_name": "Python 3 (ipykernel)",
   "language": "python",
   "name": "python3"
  },
  "language_info": {
   "codemirror_mode": {
    "name": "ipython",
    "version": 3
   },
   "file_extension": ".py",
   "mimetype": "text/x-python",
   "name": "python",
   "nbconvert_exporter": "python",
   "pygments_lexer": "ipython3",
   "version": "3.12.4"
  }
 },
 "nbformat": 4,
 "nbformat_minor": 4
}
